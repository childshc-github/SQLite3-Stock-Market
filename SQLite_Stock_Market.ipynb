{
 "cells": [
  {
   "cell_type": "markdown",
   "id": "3ce8a482-c8cf-41dc-b562-2529e6cf7945",
   "metadata": {},
   "source": [
    "# SQLite Stock Market"
   ]
  },
  {
   "cell_type": "markdown",
   "id": "0cf6fc46-14f0-44e4-9528-1b7e25c38de3",
   "metadata": {},
   "source": [
    "This project creates and analyzes a data table including stock market information from IBM Common Stock and Intel Corporation stock during the last 8 days of January 2022 (1/24/2022 through 1/31/2022). The columns include:\n",
    "\n",
    "`symbol`: the stock abbreviation\n",
    "\n",
    "`name`: the name of the company\n",
    "\n",
    "`date`: in the format yyyy-mm-dd\n",
    "\n",
    "`price`: the current price per stock at the datetime\n",
    "\n",
    "Data source: Yahoo! Finance\n",
    "\n",
    "Notes: Data was selected at 9:30 am each day (stock market open). This project was inspired by Codecademy's \"Project: Watching the Stock Market\"\n"
   ]
  },
  {
   "cell_type": "markdown",
   "id": "2e63d9d8-de58-442f-ab68-7c98e22d9b5b",
   "metadata": {},
   "source": [
    "***"
   ]
  },
  {
   "cell_type": "markdown",
   "id": "41874213-bd3c-488a-b506-a9462b095ef3",
   "metadata": {},
   "source": [
    "### Step 1: Setup SQL connection"
   ]
  },
  {
   "cell_type": "code",
   "execution_count": 1,
   "id": "e28b3989-6250-43e6-aa1f-c759fdf7aacb",
   "metadata": {
    "execution": {
     "iopub.execute_input": "2022-02-04T21:23:10.381486Z",
     "iopub.status.busy": "2022-02-04T21:23:10.381486Z",
     "iopub.status.idle": "2022-02-04T21:23:10.864441Z",
     "shell.execute_reply": "2022-02-04T21:23:10.864441Z",
     "shell.execute_reply.started": "2022-02-04T21:23:10.381486Z"
    },
    "tags": []
   },
   "outputs": [],
   "source": [
    "import sqlite3\n",
    "import pandas as pd\n",
    "\n",
    "connection = sqlite3.connect(\"stocks.db\")\n",
    "cursor = connection.cursor()"
   ]
  },
  {
   "cell_type": "markdown",
   "id": "1dbad583-7663-40cc-b6e9-4c2529e00d4d",
   "metadata": {},
   "source": [
    "### Step 2: Create Table"
   ]
  },
  {
   "cell_type": "code",
   "execution_count": 2,
   "id": "e25af87a-50e3-4f55-a4ba-e95b4dc7bbbe",
   "metadata": {
    "execution": {
     "iopub.execute_input": "2022-02-04T21:23:17.629889Z",
     "iopub.status.busy": "2022-02-04T21:23:17.629889Z",
     "iopub.status.idle": "2022-02-04T21:23:17.824725Z",
     "shell.execute_reply": "2022-02-04T21:23:17.824725Z",
     "shell.execute_reply.started": "2022-02-04T21:23:17.629889Z"
    },
    "tags": []
   },
   "outputs": [
    {
     "name": "stdout",
     "output_type": "stream",
     "text": [
      "   symbol               name        date   price\n",
      "0     IBM   IBM Common Stock  2022-01-24  127.99\n",
      "1     IBM   IBM Common Stock  2022-01-25  129.14\n",
      "2     IBM   IBM Common Stock  2022-01-26  136.47\n",
      "3     IBM   IBM Common Stock  2022-01-27  133.66\n",
      "4     IBM   IBM Common Stock  2022-01-28  133.19\n",
      "5     IBM   IBM Common Stock  2022-01-31  134.09\n",
      "6    INTC  Intel Corporation  2022-01-24   51.48\n",
      "7    INTC  Intel Corporation  2022-01-25   51.01\n",
      "8    INTC  Intel Corporation  2022-01-26   51.13\n",
      "9    INTC  Intel Corporation  2022-01-27   49.98\n",
      "10   INTC  Intel Corporation  2022-01-28   47.71\n",
      "11   INTC  Intel Corporation  2022-01-31   47.68\n"
     ]
    }
   ],
   "source": [
    "#table creation\n",
    "cursor.execute(''' CREATE TABLE jan_week_stocks (\n",
    "symbol TEXT,\n",
    "name TEXT,\n",
    "date TEXT NOT NULL,\n",
    "price FLOAT\n",
    ");\n",
    "''')\n",
    "\n",
    "#IBM values\n",
    "IBM_mon = (\"IBM\", \"IBM Common Stock\", \"2022-01-24\", 127.99)\n",
    "IBM_tues = (\"IBM\", \"IBM Common Stock\", \"2022-01-25\", 129.14)\n",
    "IBM_wed = (\"IBM\", \"IBM Common Stock\", \"2022-01-26\", 136.47)\n",
    "IBM_thur = (\"IBM\", \"IBM Common Stock\", \"2022-01-27\", 133.66)\n",
    "IBM_fri = (\"IBM\", \"IBM Common Stock\", \"2022-01-28\", 133.19)\n",
    "IBM_final = (\"IBM\", \"IBM Common Stock\", \"2022-01-31\", 134.09)\n",
    "\n",
    "#Intel values\n",
    "INTC_mon = (\"INTC\", \"Intel Corporation\", \"2022-01-24\", 51.48)\n",
    "INTC_tues = (\"INTC\", \"Intel Corporation\", \"2022-01-25\", 51.01)\n",
    "INTC_wed = (\"INTC\", \"Intel Corporation\", \"2022-01-26\", 51.13)\n",
    "INTC_thur = (\"INTC\", \"Intel Corporation\", \"2022-01-27\", 49.98)\n",
    "INTC_fri = (\"INTC\", \"Intel Corporation\", \"2022-01-28\", 47.71)\n",
    "INTC_final = (\"INTC\", \"Intel Corporation\", \"2022-01-31\", 47.68)\n",
    "\n",
    "#insert IBM values\n",
    "cursor.execute('INSERT INTO jan_week_stocks VALUES (?,?,?,?);', IBM_mon)\n",
    "cursor.execute('INSERT INTO jan_week_stocks VALUES (?,?,?,?);', IBM_tues)\n",
    "cursor.execute('INSERT INTO jan_week_stocks VALUES (?,?,?,?);', IBM_wed)\n",
    "cursor.execute('INSERT INTO jan_week_stocks VALUES (?,?,?,?);', IBM_thur)\n",
    "cursor.execute('INSERT INTO jan_week_stocks VALUES (?,?,?,?);', IBM_fri)\n",
    "cursor.execute('INSERT INTO jan_week_stocks VALUES (?,?,?,?);', IBM_final)\n",
    "\n",
    "#insert Intel values\n",
    "cursor.execute('INSERT INTO jan_week_stocks VALUES (?,?,?,?);', INTC_mon)\n",
    "cursor.execute('INSERT INTO jan_week_stocks VALUES (?,?,?,?);', INTC_tues)\n",
    "cursor.execute('INSERT INTO jan_week_stocks VALUES (?,?,?,?);', INTC_wed)\n",
    "cursor.execute('INSERT INTO jan_week_stocks VALUES (?,?,?,?);', INTC_thur)\n",
    "cursor.execute('INSERT INTO jan_week_stocks VALUES (?,?,?,?);', INTC_fri)\n",
    "cursor.execute('INSERT INTO jan_week_stocks VALUES (?,?,?,?);', INTC_final)\n",
    "\n",
    "#commit changes\n",
    "connection.commit()\n",
    "\n",
    "#print via pandas\n",
    "df = pd.read_sql_query(\"SELECT * FROM jan_week_stocks\", connection)\n",
    "print(df)"
   ]
  },
  {
   "cell_type": "markdown",
   "id": "a26eb00c-2ad7-4f1f-a415-06d454fff065",
   "metadata": {},
   "source": [
    "### Step 3: Distinct Stocks"
   ]
  },
  {
   "cell_type": "code",
   "execution_count": 8,
   "id": "703d9182-d3fa-440b-bf57-4e2e7089da3d",
   "metadata": {
    "execution": {
     "iopub.execute_input": "2022-02-04T21:05:25.540649Z",
     "iopub.status.busy": "2022-02-04T21:05:25.540649Z",
     "iopub.status.idle": "2022-02-04T21:05:25.552131Z",
     "shell.execute_reply": "2022-02-04T21:05:25.552131Z",
     "shell.execute_reply.started": "2022-02-04T21:05:25.540649Z"
    },
    "tags": []
   },
   "outputs": [
    {
     "name": "stdout",
     "output_type": "stream",
     "text": [
      "('IBM Common Stock',)\n",
      "('Intel Corporation',)\n"
     ]
    }
   ],
   "source": [
    "#print distinct stocks\n",
    "for row in cursor.execute('SELECT DISTINCT name FROM jan_week_stocks;'):\n",
    "    print(row)"
   ]
  },
  {
   "cell_type": "markdown",
   "id": "1b6c93a1-cb25-4a28-9b64-75344cecc08c",
   "metadata": {},
   "source": [
    "### Step 4: Price Ranges"
   ]
  },
  {
   "cell_type": "code",
   "execution_count": 11,
   "id": "203dc0a4-d749-4d37-81dc-07b750b80391",
   "metadata": {
    "execution": {
     "iopub.execute_input": "2022-02-04T21:07:15.308945Z",
     "iopub.status.busy": "2022-02-04T21:07:15.308945Z",
     "iopub.status.idle": "2022-02-04T21:07:15.321893Z",
     "shell.execute_reply": "2022-02-04T21:07:15.320888Z",
     "shell.execute_reply.started": "2022-02-04T21:07:15.308945Z"
    },
    "tags": []
   },
   "outputs": [
    {
     "data": {
      "text/plain": [
       "[('IBM', '2022-01-26', 136.47),\n",
       " ('IBM', '2022-01-27', 133.66),\n",
       " ('IBM', '2022-01-28', 133.19),\n",
       " ('IBM', '2022-01-31', 134.09)]"
      ]
     },
     "execution_count": 11,
     "metadata": {},
     "output_type": "execute_result"
    }
   ],
   "source": [
    "#Price above 130 (inclusive) w/ dates\n",
    "cursor.execute('SELECT symbol, date, price FROM jan_week_stocks WHERE price >= 130.0;').fetchall()"
   ]
  },
  {
   "cell_type": "code",
   "execution_count": 12,
   "id": "0ea56f1e-256f-4e45-ae04-73ec85dc22fb",
   "metadata": {
    "execution": {
     "iopub.execute_input": "2022-02-04T21:07:40.203418Z",
     "iopub.status.busy": "2022-02-04T21:07:40.203418Z",
     "iopub.status.idle": "2022-02-04T21:07:40.223992Z",
     "shell.execute_reply": "2022-02-04T21:07:40.223992Z",
     "shell.execute_reply.started": "2022-02-04T21:07:40.203418Z"
    }
   },
   "outputs": [
    {
     "data": {
      "text/plain": [
       "[('INTC', '2022-01-27', 49.98),\n",
       " ('INTC', '2022-01-28', 47.71),\n",
       " ('INTC', '2022-01-31', 47.68)]"
      ]
     },
     "execution_count": 12,
     "metadata": {},
     "output_type": "execute_result"
    }
   ],
   "source": [
    "#Price below 50 (inclusive) w/ dates\n",
    "cursor.execute('SELECT symbol, date, price FROM jan_week_stocks WHERE price <= 50.0;').fetchall()"
   ]
  },
  {
   "cell_type": "markdown",
   "id": "8ce9ca69-418b-4001-a668-23ce8f84f603",
   "metadata": {},
   "source": [
    "### Step 5: Key Statistics"
   ]
  },
  {
   "cell_type": "markdown",
   "id": "3f69182e-e92f-48bb-8e17-8d699026cebd",
   "metadata": {},
   "source": [
    "#### Minimum Prices"
   ]
  },
  {
   "cell_type": "code",
   "execution_count": 16,
   "id": "56373102-a4d5-4981-a53c-bd8d2ad3144f",
   "metadata": {
    "execution": {
     "iopub.execute_input": "2022-02-04T21:09:25.832518Z",
     "iopub.status.busy": "2022-02-04T21:09:25.832518Z",
     "iopub.status.idle": "2022-02-04T21:09:25.840508Z",
     "shell.execute_reply": "2022-02-04T21:09:25.840508Z",
     "shell.execute_reply.started": "2022-02-04T21:09:25.832518Z"
    },
    "tags": []
   },
   "outputs": [
    {
     "data": {
      "text/plain": [
       "[('IBM', 'IBM Common Stock', '2022-01-24', 127.99)]"
      ]
     },
     "execution_count": 16,
     "metadata": {},
     "output_type": "execute_result"
    }
   ],
   "source": [
    "#Minimum price for IBM\n",
    "cursor.execute('SELECT * FROM jan_week_stocks WHERE symbol = \"IBM\" ORDER BY price ASC LIMIT 1').fetchall()"
   ]
  },
  {
   "cell_type": "code",
   "execution_count": 17,
   "id": "32d2c056-7f6c-403c-bac0-85261ecfb2fb",
   "metadata": {
    "execution": {
     "iopub.execute_input": "2022-02-04T21:09:27.760410Z",
     "iopub.status.busy": "2022-02-04T21:09:27.760410Z",
     "iopub.status.idle": "2022-02-04T21:09:27.776325Z",
     "shell.execute_reply": "2022-02-04T21:09:27.775803Z",
     "shell.execute_reply.started": "2022-02-04T21:09:27.760410Z"
    }
   },
   "outputs": [
    {
     "data": {
      "text/plain": [
       "[('INTC', 'Intel Corporation', '2022-01-31', 47.68)]"
      ]
     },
     "execution_count": 17,
     "metadata": {},
     "output_type": "execute_result"
    }
   ],
   "source": [
    "#Minimum price for Intel\n",
    "cursor.execute('SELECT * FROM jan_week_stocks WHERE symbol = \"INTC\" ORDER BY price ASC LIMIT 1').fetchall()"
   ]
  },
  {
   "cell_type": "markdown",
   "id": "bcbc71f5-b01b-47b6-b73e-5b84ab880036",
   "metadata": {},
   "source": [
    "#### Maximum Prices"
   ]
  },
  {
   "cell_type": "code",
   "execution_count": 18,
   "id": "edaacd97-881c-452e-91aa-632f2293fd24",
   "metadata": {
    "execution": {
     "iopub.execute_input": "2022-02-04T21:10:05.673739Z",
     "iopub.status.busy": "2022-02-04T21:10:05.669742Z",
     "iopub.status.idle": "2022-02-04T21:10:05.685754Z",
     "shell.execute_reply": "2022-02-04T21:10:05.685754Z",
     "shell.execute_reply.started": "2022-02-04T21:10:05.673739Z"
    }
   },
   "outputs": [
    {
     "data": {
      "text/plain": [
       "[('IBM', 'IBM Common Stock', '2022-01-26', 136.47)]"
      ]
     },
     "execution_count": 18,
     "metadata": {},
     "output_type": "execute_result"
    }
   ],
   "source": [
    "#Maximum price for IBM\n",
    "cursor.execute('SELECT * FROM jan_week_stocks WHERE symbol = \"IBM\" ORDER BY price DESC LIMIT 1').fetchall()"
   ]
  },
  {
   "cell_type": "code",
   "execution_count": 19,
   "id": "2f3f3285-7652-4a6a-a559-3995d9264c9d",
   "metadata": {
    "execution": {
     "iopub.execute_input": "2022-02-04T21:10:08.483361Z",
     "iopub.status.busy": "2022-02-04T21:10:08.483361Z",
     "iopub.status.idle": "2022-02-04T21:10:08.503503Z",
     "shell.execute_reply": "2022-02-04T21:10:08.503503Z",
     "shell.execute_reply.started": "2022-02-04T21:10:08.483361Z"
    }
   },
   "outputs": [
    {
     "data": {
      "text/plain": [
       "[('INTC', 'Intel Corporation', '2022-01-24', 51.48)]"
      ]
     },
     "execution_count": 19,
     "metadata": {},
     "output_type": "execute_result"
    }
   ],
   "source": [
    "#Maximum price for Intel\n",
    "cursor.execute('SELECT * FROM jan_week_stocks WHERE symbol = \"INTC\" ORDER BY price DESC LIMIT 1').fetchall()"
   ]
  },
  {
   "cell_type": "markdown",
   "id": "2915ab48-56d4-41fe-8f8c-cf50dd0214a6",
   "metadata": {},
   "source": [
    "#### Average Prices"
   ]
  },
  {
   "cell_type": "code",
   "execution_count": 23,
   "id": "c7f32ae2-0322-43c6-b530-452cb7fdb678",
   "metadata": {
    "execution": {
     "iopub.execute_input": "2022-02-04T21:16:23.233397Z",
     "iopub.status.busy": "2022-02-04T21:16:23.233397Z",
     "iopub.status.idle": "2022-02-04T21:16:23.245574Z",
     "shell.execute_reply": "2022-02-04T21:16:23.244535Z",
     "shell.execute_reply.started": "2022-02-04T21:16:23.233397Z"
    },
    "tags": []
   },
   "outputs": [
    {
     "data": {
      "text/plain": [
       "(132.42333333333335,)"
      ]
     },
     "execution_count": 23,
     "metadata": {},
     "output_type": "execute_result"
    }
   ],
   "source": [
    "#Average price for IBM\n",
    "cursor.execute('SELECT AVG(price) FROM jan_week_stocks WHERE symbol = \"IBM\";').fetchone()"
   ]
  },
  {
   "cell_type": "code",
   "execution_count": 26,
   "id": "cc4dc78c-5394-4880-ada3-64a7b2540370",
   "metadata": {
    "execution": {
     "iopub.execute_input": "2022-02-04T21:17:24.826593Z",
     "iopub.status.busy": "2022-02-04T21:17:24.826593Z",
     "iopub.status.idle": "2022-02-04T21:17:24.834092Z",
     "shell.execute_reply": "2022-02-04T21:17:24.834092Z",
     "shell.execute_reply.started": "2022-02-04T21:17:24.826593Z"
    },
    "tags": []
   },
   "outputs": [
    {
     "data": {
      "text/plain": [
       "(49.83166666666667,)"
      ]
     },
     "execution_count": 26,
     "metadata": {},
     "output_type": "execute_result"
    }
   ],
   "source": [
    "#Average price for Intel\n",
    "cursor.execute('SELECT AVG(price) FROM jan_week_stocks WHERE symbol = \"INTC\";').fetchone()"
   ]
  },
  {
   "cell_type": "code",
   "execution_count": null,
   "id": "41b4db5e-d3b2-431e-9c77-3fb2c443254a",
   "metadata": {},
   "outputs": [],
   "source": [
    "connection.close()"
   ]
  },
  {
   "cell_type": "markdown",
   "id": "52e85fa3-fa21-4272-a2ae-6cbb81f9a41c",
   "metadata": {},
   "source": [
    "## Conclusions"
   ]
  },
  {
   "cell_type": "markdown",
   "id": "4b58928f-8f3d-4246-899e-7d5b1602ca31",
   "metadata": {},
   "source": [
    "There are a number of key statistics that can be pulled from this analysis:\n",
    "\n",
    "- The IBM stock went above 130 on open the following dates: \n",
    "    - 2022-01-26\n",
    "    - 2022-01-27\n",
    "    - 2022-01-28\n",
    "    - 2022-01-31\n",
    "- The intel stock dropped below 50 on open the following dates:\n",
    "    - 2022-01-27\n",
    "    - 2022-01-28\n",
    "    - 2022-01-31\n",
    "- The minimum and maximum stock price for IBM was 127.99 / 136.47\n",
    "- The minimum and maximum stock price for Intel was 47.68 / 51.48\n",
    "- The average stock price for IBM was 132.42\n",
    "- The average stock price for Intel was 49.83"
   ]
  },
  {
   "cell_type": "code",
   "execution_count": null,
   "id": "a2a40e71-68f0-420d-ad30-b37ac89d165c",
   "metadata": {},
   "outputs": [],
   "source": []
  }
 ],
 "metadata": {
  "kernelspec": {
   "display_name": "Python 3",
   "language": "python",
   "name": "python3"
  },
  "language_info": {
   "codemirror_mode": {
    "name": "ipython",
    "version": 3
   },
   "file_extension": ".py",
   "mimetype": "text/x-python",
   "name": "python",
   "nbconvert_exporter": "python",
   "pygments_lexer": "ipython3",
   "version": "3.8.8"
  }
 },
 "nbformat": 4,
 "nbformat_minor": 5
}
